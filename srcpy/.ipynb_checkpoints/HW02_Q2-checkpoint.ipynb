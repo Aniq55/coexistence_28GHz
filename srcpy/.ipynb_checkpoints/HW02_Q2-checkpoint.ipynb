{
 "cells": [
  {
   "cell_type": "markdown",
   "id": "91822191-00b7-450c-9b3e-ec6934bea4e8",
   "metadata": {},
   "source": [
    "## HW02: Q02\n",
    "#### Aniq Ur Rahman 180030"
   ]
  },
  {
   "cell_type": "code",
   "execution_count": 1,
   "id": "b143e45c-c4e8-4461-99be-032e44ff50ae",
   "metadata": {},
   "outputs": [],
   "source": [
    "import numpy as np"
   ]
  },
  {
   "cell_type": "code",
   "execution_count": 2,
   "id": "b8492cb7-e697-4056-8c57-fad00500456d",
   "metadata": {},
   "outputs": [],
   "source": [
    "X_train, X_test, y_train, y_test = np.load(\"digitspreprocess.npy\", allow_pickle=True)"
   ]
  },
  {
   "cell_type": "code",
   "execution_count": 3,
   "id": "97bcb09c-ff8a-47f0-8234-242fe19ed5ef",
   "metadata": {},
   "outputs": [
    {
     "name": "stdout",
     "output_type": "stream",
     "text": [
      "860 64\n"
     ]
    }
   ],
   "source": [
    "n = X_train.shape[0]\n",
    "d = X_train.shape[1]\n",
    "print(n,d)"
   ]
  },
  {
   "cell_type": "code",
   "execution_count": 4,
   "id": "21058823-b8c1-4662-b94b-74cae17e278d",
   "metadata": {},
   "outputs": [],
   "source": [
    "def Loss(x, y, W, lamb):\n",
    "    return (1.0/n)*y@np.log(1+ np.exp(-x@W)) + \\\n",
    "    (1.0/n)*(1-y)@np.log(1+ np.exp(x@W)) + \\\n",
    "    (lamb/2.0)*np.power(np.linalg.norm(W,2),2)"
   ]
  },
  {
   "cell_type": "code",
   "execution_count": 5,
   "id": "27e31396-5b12-4cfe-967b-fec1d8c4f0ac",
   "metadata": {},
   "outputs": [],
   "source": [
    "def grad_Loss(x, y, W, lamb):\n",
    "    exp_dot1 = 1/(1 + np.exp(-x@W)) - y\n",
    "    grad_L = (1.0/n)*(x.T@exp_dot1) + lamb*W\n",
    "    \n",
    "    return grad_L"
   ]
  },
  {
   "cell_type": "markdown",
   "id": "26e31cd6-5e42-451b-8656-d755a47ec038",
   "metadata": {},
   "source": [
    "### Gradient Descent"
   ]
  },
  {
   "cell_type": "code",
   "execution_count": 6,
   "id": "e2e26b29-25b6-4669-aa4e-1ddba2459592",
   "metadata": {},
   "outputs": [],
   "source": [
    "def gradient_descent(x, y, learning_rate, reg_factor, iters):\n",
    "    T = iters\n",
    "    eta = learning_rate\n",
    "    lamb = reg_factor\n",
    "    \n",
    "    E = np.zeros(T) # error\n",
    "    N = len(x)\n",
    "    \n",
    "    W = np.zeros(d)\n",
    "    dW = np.zeros(d)\n",
    "    \n",
    "    for i in range(T):\n",
    "\n",
    "        dW = grad_Loss(x, y, W, lamb)\n",
    "        \n",
    "        W = W - eta*dW\n",
    "\n",
    "        E[i] = Loss(x, y, W, lamb)\n",
    "        \n",
    "    \n",
    "    return W, E"
   ]
  },
  {
   "cell_type": "code",
   "execution_count": 7,
   "id": "00e6c431-f074-47ca-8d8a-e13da4586fe5",
   "metadata": {
    "tags": []
   },
   "outputs": [],
   "source": [
    "def sigmoid(a):\n",
    "    return 1/(1+ np.exp(-a))   "
   ]
  },
  {
   "cell_type": "code",
   "execution_count": 8,
   "id": "0acadae9-382a-48c4-ad85-9da468864493",
   "metadata": {},
   "outputs": [],
   "source": [
    "def predict(x, W):\n",
    "    return sigmoid(x@W) > 0.5"
   ]
  },
  {
   "cell_type": "code",
   "execution_count": 9,
   "id": "767aa100-a04b-4ac4-a6a9-1a0ccb852253",
   "metadata": {},
   "outputs": [],
   "source": [
    "itermax = int(1e4)\n",
    "lambda_vec = [0, 1e-4, 1e-3, 5e-3, 1e-2, 5e-2, 1e-1]\n",
    "learning_rate = 0.01\n",
    "\n",
    "class Experiment:\n",
    "    def __init__(self, eta, lambda_val):\n",
    "        self.eta = eta\n",
    "        self.lambda_val = lambda_val\n",
    "        self.W = None\n",
    "        self.E = None\n",
    "        self.y_hat = None\n",
    "        self.prediction_error = None\n",
    "    \n",
    "    def execute_gd(self):\n",
    "        self.W, self.E = gradient_descent(X_train, y_train,self.eta,\\\n",
    "                                          self.lambda_val, itermax)\n",
    "        \n",
    "    def predict_y(self, x, y):\n",
    "        self.y_hat = predict(x, self.W)\n",
    "        self.prediction_error = np.sum(np.abs( self.y_hat - y))/self.y_hat.size\n"
   ]
  },
  {
   "cell_type": "code",
   "execution_count": 10,
   "id": "44aa3ce1-f047-4c09-a2c5-4c7051131d63",
   "metadata": {},
   "outputs": [],
   "source": [
    "experiments = []\n",
    "for lambda_val in lambda_vec:\n",
    "    experiments.append( Experiment(learning_rate, lambda_val) )\n",
    "    \n",
    "for ex in experiments:\n",
    "    ex.execute_gd()\n",
    "    ex.predict_y(X_train, y_train)\n"
   ]
  },
  {
   "cell_type": "code",
   "execution_count": 11,
   "id": "1cb84136-7146-43a3-8e0d-aba0e31363b5",
   "metadata": {},
   "outputs": [],
   "source": [
    "import matplotlib.pyplot as plt\n",
    "import seaborn as sns\n",
    "sns.set_theme()"
   ]
  },
  {
   "cell_type": "code",
   "execution_count": 12,
   "id": "796a452b-a244-408d-8fb9-e86b31aa5278",
   "metadata": {},
   "outputs": [
    {
     "data": {
      "text/plain": [
       "<matplotlib.legend.Legend at 0x174d82a2310>"
      ]
     },
     "execution_count": 12,
     "metadata": {},
     "output_type": "execute_result"
    },
    {
     "data": {
      "image/png": "[encoded data removed]",
      "text/plain": [
       "<Figure size 432x288 with 1 Axes>"
      ]
     },
     "metadata": {},
     "output_type": "display_data"
    }
   ],
   "source": [
    "plt.figure()\n",
    "for ex in experiments:\n",
    "    plt.plot(np.log10(ex.E), label=str(ex.lambda_val))\n",
    "\n",
    "plt.xlabel('iteration')\n",
    "plt.ylabel('log-Loss')\n",
    "plt.xlim([0,1000])\n",
    "plt.grid(True)\n",
    "plt.legend(title=\"$\\lambda$\")"
   ]
  },
  {
   "cell_type": "markdown",
   "id": "34ec92b6-5e21-4c0c-b382-58f5e5e30717",
   "metadata": {},
   "source": [
    "For lower values of regularization parameter $\\lambda$, we see that the loss decreases faster to lower values."
   ]
  },
  {
   "cell_type": "code",
   "execution_count": 13,
   "id": "21d841f9-1a9b-4f08-92dc-d61e11b4c1e8",
   "metadata": {},
   "outputs": [
    {
     "data": {
      "text/plain": [
       "Text(0, 0.5, 'classification error [%]')"
      ]
     },
     "execution_count": 13,
     "metadata": {},
     "output_type": "execute_result"
    },
    {
     "data": {
      "image/png": "[encoded data removed]",
      "text/plain": [
       "<Figure size 432x288 with 1 Axes>"
      ]
     },
     "metadata": {},
     "output_type": "display_data"
    }
   ],
   "source": [
    "plt.figure()\n",
    "plt.plot(lambda_vec, [100.0*ex.prediction_error for ex in experiments], 's-')\n",
    "plt.xlabel(\"$ \\lambda $\")\n",
    "plt.ylabel(\"classification error [%]\")"
   ]
  },
  {
   "cell_type": "markdown",
   "id": "83865b33-25ff-4386-b4bb-70c1d9930ade",
   "metadata": {},
   "source": [
    "For $\\lambda \\in [0, 0.01]$ the classification error is $\\sim 8.5\\%$, and as we increase $\\lambda$ beyond that, the classification error increases linearly."
   ]
  }
 ],
 "metadata": {
  "kernelspec": {
   "display_name": "Python 3",
   "language": "python",
   "name": "python3"
  },
  "language_info": {
   "codemirror_mode": {
    "name": "ipython",
    "version": 3
   },
   "file_extension": ".py",
   "mimetype": "text/x-python",
   "name": "python",
   "nbconvert_exporter": "python",
   "pygments_lexer": "ipython3",
   "version": "3.8.8"
  }
 },
 "nbformat": 4,
 "nbformat_minor": 5
}
