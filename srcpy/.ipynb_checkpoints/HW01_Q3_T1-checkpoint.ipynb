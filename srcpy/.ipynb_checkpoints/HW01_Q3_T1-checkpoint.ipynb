{
 "cells": [
  {
   "cell_type": "markdown",
   "id": "65b64c20-0d72-498e-ab1a-d46bc1b029cb",
   "metadata": {},
   "source": [
    "# Task 1"
   ]
  },
  {
   "cell_type": "code",
   "execution_count": 1,
   "id": "f506d5dc-b6b3-41db-9289-ceb078e6045a",
   "metadata": {},
   "outputs": [],
   "source": [
    "import numpy as np\n",
    "import pandas as pd\n",
    "import matplotlib.pyplot as plt\n",
    "from sklearn.model_selection import train_test_split\n",
    "import seaborn as sns\n",
    "sns.set_theme()"
   ]
  },
  {
   "cell_type": "code",
   "execution_count": 2,
   "id": "c3207935",
   "metadata": {},
   "outputs": [],
   "source": [
    "np.random.seed(5)"
   ]
  },
  {
   "cell_type": "code",
   "execution_count": 3,
   "id": "a102129b-6aec-4360-bb9a-9c8d8e39a332",
   "metadata": {},
   "outputs": [],
   "source": [
    "df_full = pd.read_csv('./data/regression_x_t.txt', sep='\\s+', header=None)"
   ]
  },
  {
   "cell_type": "code",
   "execution_count": 4,
   "id": "88389b89-701b-416b-8c34-aff4cdd219c5",
   "metadata": {},
   "outputs": [],
   "source": [
    "df_full.columns = ['x', 't']"
   ]
  },
  {
   "cell_type": "code",
   "execution_count": 5,
   "id": "5d730d22-8358-4976-bc42-3b1183103d87",
   "metadata": {},
   "outputs": [],
   "source": [
    "x_train, x_test, t_train, t_test = train_test_split( df_full['x'], df_full['t'], test_size = 0.2, random_state = 0 )"
   ]
  },
  {
   "cell_type": "code",
   "execution_count": 6,
   "id": "1a9ab51b",
   "metadata": {},
   "outputs": [],
   "source": [
    "x_train = np.array(x_train)\n",
    "t_train = np.array(t_train)\n",
    "x_test = np.array(x_test)\n",
    "t_test = np.array(t_test)"
   ]
  },
  {
   "cell_type": "markdown",
   "id": "da6a1a0d-eae2-4a1e-a248-417215cdc580",
   "metadata": {},
   "source": [
    "## Batch Gradient Descent"
   ]
  },
  {
   "cell_type": "markdown",
   "id": "158fb4ba-ce73-413a-929a-ba161d9dc0bf",
   "metadata": {},
   "source": [
    "### Basis Functions"
   ]
  },
  {
   "cell_type": "code",
   "execution_count": 7,
   "id": "76cda20a",
   "metadata": {},
   "outputs": [],
   "source": [
    "def phi(x, i):\n",
    "    if i == 0:\n",
    "        return np.power(x, 0)\n",
    "    \n",
    "    if i == 1:\n",
    "        return np.exp(-x)*np.sin(2*np.pi*x)\n",
    "    \n",
    "    if i == 2:\n",
    "        return np.sin(2*np.pi*x)"
   ]
  },
  {
   "cell_type": "markdown",
   "id": "6c5d4ac3-f954-498c-8e83-8ed4c841e20d",
   "metadata": {},
   "source": [
    "### Function Evaluation"
   ]
  },
  {
   "cell_type": "code",
   "execution_count": 8,
   "id": "91ca8533",
   "metadata": {},
   "outputs": [],
   "source": [
    "def g(weights, x):\n",
    "    return np.sum([weights[i]*phi(x,i) for i in range(len(weights))], axis=0)"
   ]
  },
  {
   "cell_type": "code",
   "execution_count": 9,
   "id": "c17b75b5",
   "metadata": {},
   "outputs": [],
   "source": [
    "def error_fn(x, y, W):\n",
    "    return 0.5*np.mean(np.square(g(W, x) - y))"
   ]
  },
  {
   "cell_type": "code",
   "execution_count": 10,
   "id": "7c048cea-3a1e-4adb-81b8-93b00d1587aa",
   "metadata": {},
   "outputs": [],
   "source": [
    "def gradient_descent(x, y, learning_rate, iters):\n",
    "    T = iters\n",
    "    eta = learning_rate\n",
    "    \n",
    "    d = 3 # number of coefficients\n",
    "    E = np.zeros(T) # error\n",
    "    N = len(x)\n",
    "    \n",
    "    W = np.zeros((d,1))\n",
    "    dW = np.zeros((d,1))\n",
    "    \n",
    "    for i in range(T):\n",
    "\n",
    "        for j in range(d):\n",
    "            dW[j] = (1/float(N))*np.dot((  g(W, x) - y ), phi(x, j))\n",
    "\n",
    "        for j in range(d):\n",
    "            W[j] = W[j] - eta*dW[j]\n",
    "\n",
    "\n",
    "        E[i] = error_fn(x, y, W)\n",
    "        \n",
    "    \n",
    "    return W, E"
   ]
  },
  {
   "cell_type": "code",
   "execution_count": 11,
   "id": "1b96f901-b7c8-4035-8f71-5bbe1afcb9ed",
   "metadata": {},
   "outputs": [],
   "source": [
    "T = 20000\n",
    "W, E = gradient_descent(x_train, t_train, 1e-2, T)"
   ]
  },
  {
   "cell_type": "markdown",
   "id": "3ed1e8d2",
   "metadata": {},
   "source": [
    "#### Learned Coefficients"
   ]
  },
  {
   "cell_type": "code",
   "execution_count": 12,
   "id": "477ac3b6",
   "metadata": {},
   "outputs": [
    {
     "name": "stdout",
     "output_type": "stream",
     "text": [
      "[[0.01578035]\n",
      " [1.9727427 ]\n",
      " [0.39937538]]\n"
     ]
    }
   ],
   "source": [
    "print(W)"
   ]
  },
  {
   "cell_type": "code",
   "execution_count": 13,
   "id": "90c6802e-4d36-47c8-bb5f-6bb8f0a5e615",
   "metadata": {},
   "outputs": [
    {
     "data": {
      "text/plain": [
       "Text(0, 0.5, 'E(w)')"
      ]
     },
     "execution_count": 13,
     "metadata": {},
     "output_type": "execute_result"
    },
    {
     "data": {
      "image/png": "[encoded data removed]",
      "text/plain": [
       "<Figure size 432x288 with 1 Axes>"
      ]
     },
     "metadata": {},
     "output_type": "display_data"
    }
   ],
   "source": [
    "plt.figure()\n",
    "plt.semilogy(E)\n",
    "plt.xlabel('iteration')\n",
    "plt.ylabel('E(w)')"
   ]
  },
  {
   "cell_type": "code",
   "execution_count": 14,
   "id": "ef72fedf-e035-49da-b781-ab0c61902b99",
   "metadata": {},
   "outputs": [
    {
     "data": {
      "text/plain": [
       "Text(0, 0.5, 't')"
      ]
     },
     "execution_count": 14,
     "metadata": {},
     "output_type": "execute_result"
    },
    {
     "data": {
      "image/png": "[encoded data removed]",
      "text/plain": [
       "<Figure size 432x288 with 1 Axes>"
      ]
     },
     "metadata": {},
     "output_type": "display_data"
    }
   ],
   "source": [
    "plt.figure()\n",
    "plt.scatter(x_train, t_train, s=1, label= 'data points')\n",
    "x_dummy = np.linspace( int(min(x_train)), 1 + int(max(x_train)), 100 )\n",
    "plt.plot( x_dummy, g(W,x_dummy), 'r', label='regression')\n",
    "plt.legend()\n",
    "plt.xlabel('x')\n",
    "plt.ylabel('t')"
   ]
  },
  {
   "cell_type": "markdown",
   "id": "7059453b",
   "metadata": {},
   "source": [
    "#### RMSE on training set"
   ]
  },
  {
   "cell_type": "code",
   "execution_count": 15,
   "id": "bd799591-bc8c-431e-b00a-91ea3e217087",
   "metadata": {},
   "outputs": [
    {
     "data": {
      "text/plain": [
       "0.12884188669901078"
      ]
     },
     "execution_count": 15,
     "metadata": {},
     "output_type": "execute_result"
    }
   ],
   "source": [
    "np.sqrt(2*E[T-1])"
   ]
  },
  {
   "cell_type": "markdown",
   "id": "d2ad306a",
   "metadata": {},
   "source": [
    "#### RMSE on test set"
   ]
  },
  {
   "cell_type": "code",
   "execution_count": 16,
   "id": "cbe221cb-d7a6-4a19-95a9-7c78a603f11e",
   "metadata": {},
   "outputs": [],
   "source": [
    "E_test = np.sqrt(2*error_fn(x_test, t_test, W))"
   ]
  },
  {
   "cell_type": "code",
   "execution_count": 17,
   "id": "10d11497-35ec-41a4-b066-f570d8820629",
   "metadata": {},
   "outputs": [
    {
     "data": {
      "text/plain": [
       "0.13881192433413556"
      ]
     },
     "execution_count": 17,
     "metadata": {},
     "output_type": "execute_result"
    }
   ],
   "source": [
    "E_test"
   ]
  }
 ],
 "metadata": {
  "kernelspec": {
   "display_name": "Python 3",
   "language": "python",
   "name": "python3"
  },
  "language_info": {
   "codemirror_mode": {
    "name": "ipython",
    "version": 3
   },
   "file_extension": ".py",
   "mimetype": "text/x-python",
   "name": "python",
   "nbconvert_exporter": "python",
   "pygments_lexer": "ipython3",
   "version": "3.8.8"
  }
 },
 "nbformat": 4,
 "nbformat_minor": 5
}
